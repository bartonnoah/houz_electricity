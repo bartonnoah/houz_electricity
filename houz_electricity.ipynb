{
 "cells": [
  {
   "cell_type": "code",
   "execution_count": 67,
   "metadata": {},
   "outputs": [],
   "source": [
    "import pandas as pd\n",
    "import matplotlib.pyplot as plt\n",
    "from datetime import datetime\n",
    "from dateutil import parser\n",
    "#ur mom is a local change"
   ]
  },
  {
   "cell_type": "code",
   "execution_count": 71,
   "metadata": {},
   "outputs": [
    {
     "data": {
      "text/html": [
       "<div>\n",
       "<style scoped>\n",
       "    .dataframe tbody tr th:only-of-type {\n",
       "        vertical-align: middle;\n",
       "    }\n",
       "\n",
       "    .dataframe tbody tr th {\n",
       "        vertical-align: top;\n",
       "    }\n",
       "\n",
       "    .dataframe thead th {\n",
       "        text-align: right;\n",
       "    }\n",
       "</style>\n",
       "<table border=\"1\" class=\"dataframe\">\n",
       "  <thead>\n",
       "    <tr style=\"text-align: right;\">\n",
       "      <th></th>\n",
       "      <th>Date</th>\n",
       "      <th>Start Time</th>\n",
       "      <th>Usage (kWh)</th>\n",
       "    </tr>\n",
       "  </thead>\n",
       "  <tbody>\n",
       "    <tr>\n",
       "      <th>0</th>\n",
       "      <td>07/01/2023</td>\n",
       "      <td>01:00:00</td>\n",
       "      <td>0.115</td>\n",
       "    </tr>\n",
       "    <tr>\n",
       "      <th>1</th>\n",
       "      <td>07/01/2023</td>\n",
       "      <td>02:00:00</td>\n",
       "      <td>0.140</td>\n",
       "    </tr>\n",
       "    <tr>\n",
       "      <th>2</th>\n",
       "      <td>07/01/2023</td>\n",
       "      <td>03:00:00</td>\n",
       "      <td>0.150</td>\n",
       "    </tr>\n",
       "    <tr>\n",
       "      <th>3</th>\n",
       "      <td>07/01/2023</td>\n",
       "      <td>04:00:00</td>\n",
       "      <td>0.125</td>\n",
       "    </tr>\n",
       "    <tr>\n",
       "      <th>4</th>\n",
       "      <td>07/01/2023</td>\n",
       "      <td>05:00:00</td>\n",
       "      <td>0.155</td>\n",
       "    </tr>\n",
       "    <tr>\n",
       "      <th>...</th>\n",
       "      <td>...</td>\n",
       "      <td>...</td>\n",
       "      <td>...</td>\n",
       "    </tr>\n",
       "    <tr>\n",
       "      <th>1722</th>\n",
       "      <td>09/10/2023</td>\n",
       "      <td>19:00:00</td>\n",
       "      <td>1.585</td>\n",
       "    </tr>\n",
       "    <tr>\n",
       "      <th>1723</th>\n",
       "      <td>09/10/2023</td>\n",
       "      <td>20:00:00</td>\n",
       "      <td>3.790</td>\n",
       "    </tr>\n",
       "    <tr>\n",
       "      <th>1724</th>\n",
       "      <td>09/10/2023</td>\n",
       "      <td>21:00:00</td>\n",
       "      <td>1.150</td>\n",
       "    </tr>\n",
       "    <tr>\n",
       "      <th>1725</th>\n",
       "      <td>09/10/2023</td>\n",
       "      <td>22:00:00</td>\n",
       "      <td>2.780</td>\n",
       "    </tr>\n",
       "    <tr>\n",
       "      <th>1726</th>\n",
       "      <td>09/10/2023</td>\n",
       "      <td>23:00:00</td>\n",
       "      <td>1.410</td>\n",
       "    </tr>\n",
       "  </tbody>\n",
       "</table>\n",
       "<p>1727 rows × 3 columns</p>\n",
       "</div>"
      ],
      "text/plain": [
       "            Date Start Time  Usage (kWh)\n",
       "0     07/01/2023   01:00:00        0.115\n",
       "1     07/01/2023   02:00:00        0.140\n",
       "2     07/01/2023   03:00:00        0.150\n",
       "3     07/01/2023   04:00:00        0.125\n",
       "4     07/01/2023   05:00:00        0.155\n",
       "...          ...        ...          ...\n",
       "1722  09/10/2023   19:00:00        1.585\n",
       "1723  09/10/2023   20:00:00        3.790\n",
       "1724  09/10/2023   21:00:00        1.150\n",
       "1725  09/10/2023   22:00:00        2.780\n",
       "1726  09/10/2023   23:00:00        1.410\n",
       "\n",
       "[1727 rows x 3 columns]"
      ]
     },
     "execution_count": 71,
     "metadata": {},
     "output_type": "execute_result"
    }
   ],
   "source": [
    "usage = pd.read_excel('houz electricity.xlsx')\n",
    "weekends = (5, 6)\n",
    "holidays = (datetime.date(2023, 7, 4), datetime.date(2023, 9, 4))\n",
    "def weekday_or_nah(date):\n",
    "    if date in holidays:\n",
    "        return False\n",
    "    if date.weekday() not in weekends:\n",
    "        return True\n",
    "    elif date.weekday() in weekends:\n",
    "        return False\n",
    "usage"
   ]
  },
  {
   "cell_type": "code",
   "execution_count": 74,
   "metadata": {},
   "outputs": [
    {
     "data": {
      "text/plain": [
       "False"
      ]
     },
     "execution_count": 74,
     "metadata": {},
     "output_type": "execute_result"
    }
   ],
   "source": [
    "test_datetime = datetime.datetime(2023,7,1,18)\n",
    "weekday_or_nah(test_datetime)\n",
    "\n",
    "#schedule & pricing data available at https://www.sdge.com/residential/pricing-plans/about-our-pricing-plans/whenmatters\n",
    "available_plans = ('tou_dr2', 'dr', 'tou_dr', 'tou_dr1')\n",
    "super_off_peak_tou_dr1_weekday = (0, 1, 2, 3, 4, 5)\n",
    "off_peak_tou_dr1_weekday = (6, 7, 8, 9, 10, 11, 12, 13, 14, 15, 21, 22, 23)\n",
    "on_peak_tou_dr1_weekday = (16, 17, 18, 19, 20)\n",
    "super_off_peak_tou_dr1_nah = (0, 1, 2, 3, 4, 5, 6, 7, 8, 9, 10, 12, 13)\n",
    "off_peak_tou_dr1_nah = (14, 15, 21, 22, 23)\n",
    "on_peak_tou_dr1_nah = (16, 17, 18, 19, 20)\n",
    "super_off_peak_tou_dr1_price = 0.238 #($/kWh)\n",
    "off_peak_tou_dr1_price = 0.403\n",
    "on_peak_tou_dr1_price = 0.833\n",
    "\n",
    "off_peak_tou_dr2 = (0, 1, 2, 3, 4, 5, 6, 7, 8, 9, 10, 11, 12, 13, 14, 15, 21, 22, 23)\n",
    "on_peak_tou_dr2 = (16, 17, 18, 19, 20)\n",
    "off_peak_tou_dr2_price = 0.331\n",
    "on_peak_tou_dr2 = 0.724\n",
    "\n",
    "#dr doesn't have any time sensitivity\n",
    "dr_price = 0.452\n",
    "\n",
    "on_peak_tou_dr_weekdays = (16, 17, 18, 19, 20)\n",
    "off_peak_tou_dr1_weekdays = (6, 7, 8, 9, 10, 11, 12, 13, 14, 15, 21, 22, 23)\n",
    "super_off_peak_tou_dr1_weekdays= (0, 1, 2, 3, 4, 5)\n",
    "on_peak_tou_dr_nah = (16, 17, 18, 19, 20)\n",
    "off_peak_tou_dr_nah = (14, 15, 21, 22, 23)\n",
    "super_off_peak = (0, 1, 2, 3, 4, 5, 6, 7, 8, 9, 10, 11, 12, 13)\n",
    "on_peak_summer_tou_dr_price = 0.665\n",
    "off_peak_summer_tou_dr_price = 0.569\n",
    "super_off_peak_summer_tou_dr_price = 0.465\n",
    "\n",
    "def cost_of_hour(datetime,plan):\n",
    "    if plan == ''"
   ]
  },
  {
   "cell_type": "code",
   "execution_count": 70,
   "metadata": {},
   "outputs": [
    {
     "ename": "AttributeError",
     "evalue": "module 'datetime' has no attribute 'combine'",
     "output_type": "error",
     "traceback": [
      "\u001b[0;31m---------------------------------------------------------------------------\u001b[0m",
      "\u001b[0;31mAttributeError\u001b[0m                            Traceback (most recent call last)",
      "Cell \u001b[0;32mIn[70], line 8\u001b[0m\n\u001b[1;32m      6\u001b[0m         datetime \u001b[39m=\u001b[39m datetime\u001b[39m.\u001b[39mcombine(date,(row[\u001b[39m'\u001b[39m\u001b[39mStart Time\u001b[39m\u001b[39m'\u001b[39m]))\n\u001b[1;32m      7\u001b[0m     \u001b[39melse\u001b[39;00m:\n\u001b[0;32m----> 8\u001b[0m         datetime \u001b[39m=\u001b[39m datetime\u001b[39m.\u001b[39mcombine(parser\u001b[39m.\u001b[39mparse(date),(row[\u001b[39m'\u001b[39m\u001b[39mStart Time\u001b[39m\u001b[39m'\u001b[39m]))\n\u001b[1;32m      9\u001b[0m     datetimes\u001b[39m.\u001b[39mappend(datetime)\n\u001b[1;32m     10\u001b[0m usage[\u001b[39m'\u001b[39m\u001b[39mdatetime\u001b[39m\u001b[39m'\u001b[39m] \u001b[39m=\u001b[39m datetimes\n",
      "\u001b[0;31mAttributeError\u001b[0m: module 'datetime' has no attribute 'combine'"
     ]
    }
   ],
   "source": [
    "#TODO dummy mode rn\n",
    "datetimes = []\n",
    "for index, row in usage.iterrows():\n",
    "    date = row['Date']\n",
    "    if isinstance(date, type(date_object)):\n",
    "        datetime = datetime.combine(date,(row['Start Time']))\n",
    "    else:\n",
    "        datetime = datetime.combine(parser.parse(date),(row['Start Time']))\n",
    "    datetimes.append(datetime)\n",
    "usage['datetime'] = datetimes\n",
    "#usage['datetime'] = parser.parse(str(usage['Date'])+str(usage['Start Time']))\n",
    "#usage['weekday'] = usage['Date'].apply(weekday_or_nah)\n",
    "usage"
   ]
  },
  {
   "cell_type": "code",
   "execution_count": null,
   "metadata": {},
   "outputs": [
    {
     "data": {
      "image/png": "[encoded data removed]",
      "text/plain": [
       "<Figure size 640x480 with 1 Axes>"
      ]
     },
     "metadata": {},
     "output_type": "display_data"
    }
   ],
   "source": [
    "hourly_usage = usage.groupby(by='Start Time').mean()\n",
    "hourly_usage\n",
    "plt.plot(hourly_usage['Usage (kWh)'].values)\n",
    "#TODO make x axis nice\n",
    "plt.xlabel('Hour of the Day (PDT)')\n",
    "plt.ylabel('Usage (kWh)')\n",
    "plt.show()"
   ]
  },
  {
   "cell_type": "code",
   "execution_count": null,
   "metadata": {},
   "outputs": [],
   "source": []
  }
 ],
 "metadata": {
  "kernelspec": {
   "display_name": "base",
   "language": "python",
   "name": "python3"
  },
  "language_info": {
   "codemirror_mode": {
    "name": "ipython",
    "version": 3
   },
   "file_extension": ".py",
   "mimetype": "text/x-python",
   "name": "python",
   "nbconvert_exporter": "python",
   "pygments_lexer": "ipython3",
   "version": "3.11.4"
  },
  "orig_nbformat": 4
 },
 "nbformat": 4,
 "nbformat_minor": 2
}
